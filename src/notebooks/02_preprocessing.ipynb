{
 "cells": [
  {
   "cell_type": "code",
   "execution_count": 3,
   "id": "a207c0af-393c-4aec-99c0-cad37aa33775",
   "metadata": {},
   "outputs": [],
   "source": [
    "import pandas as pd\n",
    "import numpy as np\n",
    "\n",
    "# Charger le dataset nettoyé (même code que dans 01_eda si tu repars du fichier brut)\n",
    "df = pd.read_csv(\"../raw/WA_Fn-UseC_-Telco-Customer-Churn.csv\")\n",
    "\n",
    "\n",
    "# Conversion de TotalCharges\n",
    "df['TotalCharges'] = pd.to_numeric(df['TotalCharges'], errors='coerce')\n",
    "df.dropna(subset=['TotalCharges'], inplace=True)\n",
    "df.reset_index(drop=True, inplace=True)\n"
   ]
  },
  {
   "cell_type": "code",
   "execution_count": 4,
   "id": "57d830a1-098e-4e32-acc7-37bedd46f2d7",
   "metadata": {},
   "outputs": [],
   "source": [
    "cat_cols = df.select_dtypes(include='object').columns.drop(['customerID'])\n",
    "num_cols = df.select_dtypes(include=['int64', 'float64']).columns\n"
   ]
  },
  {
   "cell_type": "code",
   "execution_count": 5,
   "id": "6a469ed5-bee5-48f2-9fc5-eac824174155",
   "metadata": {},
   "outputs": [],
   "source": [
    "# One-hot encoding pour les variables catégorielles\n",
    "df_encoded = pd.get_dummies(df.drop('customerID', axis=1), drop_first=True)\n"
   ]
  },
  {
   "cell_type": "code",
   "execution_count": 6,
   "id": "6898ad25-2eed-4c4a-b0ad-0e24990c085b",
   "metadata": {},
   "outputs": [],
   "source": [
    "from sklearn.preprocessing import StandardScaler\n",
    "\n",
    "scaler = StandardScaler()\n",
    "df_encoded[num_cols] = scaler.fit_transform(df_encoded[num_cols])\n"
   ]
  },
  {
   "cell_type": "code",
   "execution_count": 7,
   "id": "c002a685-1a8c-4065-beda-eb825cd0f766",
   "metadata": {},
   "outputs": [],
   "source": [
    "X = df_encoded.drop('Churn_Yes', axis=1)\n",
    "y = df_encoded['Churn_Yes']\n"
   ]
  },
  {
   "cell_type": "code",
   "execution_count": 8,
   "id": "66b88edc-45e7-4cf1-8c59-e5bf8ea5a012",
   "metadata": {},
   "outputs": [],
   "source": [
    "X.to_csv(\"X_preprocessed.csv\", index=False)\n",
    "y.to_csv(\"y_preprocessed.csv\", index=False)\n"
   ]
  },
  {
   "cell_type": "code",
   "execution_count": null,
   "id": "e5233974-b782-41e6-8030-24fb0579ece0",
   "metadata": {},
   "outputs": [],
   "source": []
  }
 ],
 "metadata": {
  "kernelspec": {
   "display_name": "Python 3 (ipykernel)",
   "language": "python",
   "name": "python3"
  },
  "language_info": {
   "codemirror_mode": {
    "name": "ipython",
    "version": 3
   },
   "file_extension": ".py",
   "mimetype": "text/x-python",
   "name": "python",
   "nbconvert_exporter": "python",
   "pygments_lexer": "ipython3",
   "version": "3.12.3"
  }
 },
 "nbformat": 4,
 "nbformat_minor": 5
}
